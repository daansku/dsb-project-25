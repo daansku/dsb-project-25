{
 "cells": [
  {
   "cell_type": "code",
   "id": "a54ec547",
   "metadata": {},
   "source": [
    "import pandas as pd\n",
    "import numpy as np"
   ],
   "outputs": [],
   "execution_count": null
  },
  {
   "cell_type": "markdown",
   "id": "a16560a4",
   "metadata": {},
   "source": [
    "### Cleaning the data"
   ]
  },
  {
   "cell_type": "code",
   "id": "c6aabf29",
   "metadata": {},
   "source": [
    "df = pd.read_csv('Financial Distress.csv')\n",
    "print(df.isnull().sum())\n",
    "df = df.groupby('Company').mean(numeric_only=True).reset_index()\n",
    "df = df.drop(columns=['Time'])\n",
    "print(df.head(5))\n",
    "print(len(df))"
   ],
   "outputs": [],
   "execution_count": null
  },
  {
   "cell_type": "markdown",
   "id": "f317f24a",
   "metadata": {},
   "source": [
    "### Vizualize tha data or sumn"
   ]
  },
  {
   "cell_type": "code",
   "id": "fb63219c",
   "metadata": {},
   "source": [],
   "outputs": [],
   "execution_count": null
  }
 ],
 "metadata": {
  "kernelspec": {
   "display_name": "Python 3",
   "language": "python",
   "name": "python3"
  },
  "language_info": {
   "codemirror_mode": {
    "name": "ipython",
    "version": 3
   },
   "file_extension": ".py",
   "mimetype": "text/x-python",
   "name": "python",
   "nbconvert_exporter": "python",
   "pygments_lexer": "ipython3",
   "version": "3.12.10"
  }
 },
 "nbformat": 4,
 "nbformat_minor": 5
}
