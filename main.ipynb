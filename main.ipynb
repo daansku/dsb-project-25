{
 "cells": [
  {
   "metadata": {},
   "cell_type": "code",
   "outputs": [],
   "execution_count": null,
   "source": [
    "import pandas as pd\n",
    "import numpy as np\n",
    "import matplotlib.pyplot as plt"
   ],
   "id": "9b5970cd92a74fa6"
  },
  {
   "metadata": {},
   "cell_type": "markdown",
   "source": "### Cleaning the data",
   "id": "917f3db2bf3db0f2"
  },
  {
   "metadata": {},
   "cell_type": "code",
   "outputs": [],
   "execution_count": null,
   "source": [
    "df = pd.read_csv('Financial Distress.csv')\n",
    "print(df.isnull().sum())\n",
    "df = df.groupby('Company').mean(numeric_only=True).reset_index()\n",
    "df = df.drop(columns=['Time'])\n",
    "print(df.head(5))\n",
    "print(len(df))"
   ],
   "id": "cf8b62a440b3df60"
  },
  {
   "metadata": {},
   "cell_type": "markdown",
   "source": "### Vizualize tha data or sumn",
   "id": "6aec79cb77a6da66"
  },
  {
   "metadata": {},
   "cell_type": "code",
   "outputs": [],
   "execution_count": null,
   "source": [
    "# Plotting the distribution of Financial Distress\n",
    "# Splitting values into bins with step of 0.5\n",
    "bins = np.arange(min(df['Financial Distress']), max(df['Financial Distress']) + 0.5, 0.5)\n",
    "\n",
    "# Show histogram\n",
    "plt.figure(figsize=(8, 5))\n",
    "plt.hist(df['Financial Distress'], bins=bins, color=\"darkred\", edgecolor='black', alpha=0.7)\n",
    "plt.title(f\"Distribution of Financial Distress: x ∈ [{min(df['Financial Distress']):.2f}, {max(df['Financial Distress']):.2f}]\")\n",
    "plt.xlabel('Financial Distress')\n",
    "plt.ylabel('Number of Companies')\n",
    "plt.show()\n",
    "\n",
    "\n",
    "\n"
   ],
   "id": "3dfc7517afc03e7a"
  }
 ],
 "metadata": {
  "kernelspec": {
   "display_name": "Python 3",
   "language": "python",
   "name": "python3"
  },
  "language_info": {
   "codemirror_mode": {
    "name": "ipython",
    "version": 3
   },
   "file_extension": ".py",
   "mimetype": "text/x-python",
   "name": "python",
   "nbconvert_exporter": "python",
   "pygments_lexer": "ipython3",
   "version": "3.12.10"
  }
 },
 "nbformat": 4,
 "nbformat_minor": 5
}
