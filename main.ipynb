{
 "cells": [
  {
   "cell_type": "code",
   "id": "9b5970cd92a74fa6",
   "metadata": {},
   "source": [
    "import pandas as pd\n",
    "import numpy as np\n",
    "import matplotlib.pyplot as plt"
   ],
   "outputs": [],
   "execution_count": null
  },
  {
   "cell_type": "markdown",
   "id": "917f3db2bf3db0f2",
   "metadata": {},
   "source": [
    "### Cleaning the data"
   ]
  },
  {
   "cell_type": "code",
   "id": "cf8b62a440b3df60",
   "metadata": {},
   "source": [
    "df = pd.read_csv('cs-training.csv')\n",
    "df = df.rename(columns={'SeriousDlqin2yrs': 'label'})\n",
    "df = df.dropna()\n",
    "df = df.drop(columns=['Unnamed: 0'])\n",
    "\n",
    "print(len(df))\n",
    "print(df.head(5))"
   ],
   "outputs": [],
   "execution_count": null
  },
  {
   "cell_type": "markdown",
   "id": "b437b602",
   "metadata": {},
   "source": [
    "### Random forest"
   ]
  },
  {
   "cell_type": "code",
   "id": "79a22684ae648201",
   "metadata": {},
   "source": [
    "from sklearn.model_selection import train_test_split\n",
    "from sklearn.ensemble import RandomForestClassifier\n",
    "from sklearn.metrics import f1_score, accuracy_score, precision_score, recall_score\n",
    "\n",
    "features_count = len(df.columns) - 1\n",
    "X = df.drop(columns=['label'], axis=1).to_numpy()\n",
    "y = df['label']\n",
    "\n",
    "X_train, X_valtest, y_train, y_valtest = train_test_split(X, y, test_size=0.30, random_state=1)\n",
    "X_val, X_test, y_val, y_test = train_test_split(X_valtest, y_valtest, test_size=0.50, random_state=1)\n",
    "\n",
    "rf = RandomForestClassifier(class_weight = {0: 1, 1: 5}, n_estimators=300, max_depth=10, max_features='sqrt', min_samples_leaf=4, min_samples_split=5, random_state=1)\n",
    "rf.fit(X_train, y_train)\n",
    "y_val_pred = rf.predict(X_val)\n",
    "print(f\"Accuracy score for validation set: {accuracy_score(y_val, y_val_pred):.2f}\")\n",
    "print(f\"Precision score for validation set: {precision_score(y_val, y_val_pred):.2f}\")\n",
    "print(f\"Recall score for validation set: {recall_score(y_val, y_val_pred):.2f}\")\n",
    "print(f\"F1 score for validation set: {f1_score(y_val, y_val_pred):.2f}\")\n",
    "\n",
    "\n",
    "\n",
    "\n",
    "\n"
   ],
   "outputs": [],
   "execution_count": null
  },
  {
   "metadata": {},
   "cell_type": "code",
   "source": "",
   "id": "cf908b7d8493216",
   "outputs": [],
   "execution_count": null
  },
  {
   "cell_type": "markdown",
   "id": "6aec79cb77a6da66",
   "metadata": {},
   "source": [
    "### Vizualize tha data or sumn"
   ]
  },
  {
   "cell_type": "code",
   "id": "3dfc7517afc03e7a",
   "metadata": {},
   "source": "",
   "outputs": [],
   "execution_count": null
  },
  {
   "cell_type": "markdown",
   "id": "1b77bd85",
   "metadata": {},
   "source": [
    "### Logistic regression"
   ]
  },
  {
   "cell_type": "code",
   "id": "854632c8",
   "metadata": {},
   "source": "",
   "outputs": [],
   "execution_count": null
  }
 ],
 "metadata": {
  "kernelspec": {
   "display_name": "Python 3",
   "language": "python",
   "name": "python3"
  },
  "language_info": {
   "codemirror_mode": {
    "name": "ipython",
    "version": 3
   },
   "file_extension": ".py",
   "mimetype": "text/x-python",
   "name": "python",
   "nbconvert_exporter": "python",
   "pygments_lexer": "ipython3",
   "version": "3.12.10"
  }
 },
 "nbformat": 4,
 "nbformat_minor": 5
}
