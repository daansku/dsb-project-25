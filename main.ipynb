{
 "cells": [
  {
   "cell_type": "code",
   "execution_count": 3,
   "id": "a54ec547",
   "metadata": {},
   "outputs": [],
   "source": [
    "import pandas as pd\n",
    "import numpy as np"
   ]
  },
  {
   "cell_type": "markdown",
   "id": "a16560a4",
   "metadata": {},
   "source": [
    "### Cleaning the data"
   ]
  },
  {
   "cell_type": "code",
   "execution_count": null,
   "id": "c6aabf29",
   "metadata": {},
   "outputs": [],
   "source": []
  },
  {
   "cell_type": "markdown",
   "id": "f317f24a",
   "metadata": {},
   "source": [
    "### Vizualize tha data or sumn"
   ]
  },
  {
   "cell_type": "code",
   "execution_count": null,
   "id": "fb63219c",
   "metadata": {},
   "outputs": [
    {
     "name": "stdout",
     "output_type": "stream",
     "text": [
      "Validation R^2: 0.0648737497289007\n"
     ]
    },
    {
     "name": "stderr",
     "output_type": "stream",
     "text": [
      "C:\\Users\\danit\\AppData\\Local\\Packages\\PythonSoftwareFoundation.Python.3.12_qbz5n2kfra8p0\\LocalCache\\local-packages\\Python312\\site-packages\\sklearn\\linear_model\\_coordinate_descent.py:681: ConvergenceWarning: Objective did not converge. You might want to increase the number of iterations. Duality gap: 5.545372214622148, tolerance: 0.493143628203965\n",
      "  model = cd_fast.enet_coordinate_descent_gram(\n",
      "C:\\Users\\danit\\AppData\\Local\\Packages\\PythonSoftwareFoundation.Python.3.12_qbz5n2kfra8p0\\LocalCache\\local-packages\\Python312\\site-packages\\sklearn\\linear_model\\_coordinate_descent.py:681: ConvergenceWarning: Objective did not converge. You might want to increase the number of iterations. Duality gap: 13.139916638550403, tolerance: 0.4893049694736343\n",
      "  model = cd_fast.enet_coordinate_descent_gram(\n",
      "C:\\Users\\danit\\AppData\\Local\\Packages\\PythonSoftwareFoundation.Python.3.12_qbz5n2kfra8p0\\LocalCache\\local-packages\\Python312\\site-packages\\sklearn\\linear_model\\_coordinate_descent.py:681: ConvergenceWarning: Objective did not converge. You might want to increase the number of iterations. Duality gap: 12.321117329174285, tolerance: 0.5112334375330746\n",
      "  model = cd_fast.enet_coordinate_descent_gram(\n",
      "C:\\Users\\danit\\AppData\\Local\\Packages\\PythonSoftwareFoundation.Python.3.12_qbz5n2kfra8p0\\LocalCache\\local-packages\\Python312\\site-packages\\sklearn\\linear_model\\_coordinate_descent.py:681: ConvergenceWarning: Objective did not converge. You might want to increase the number of iterations. Duality gap: 3.195849715039003, tolerance: 0.5013534891625459\n",
      "  model = cd_fast.enet_coordinate_descent_gram(\n"
     ]
    }
   ],
   "source": [
    "from sklearn.model_selection import train_test_split\n",
    "from sklearn.linear_model import LassoCV\n",
    "from sklearn.preprocessing import StandardScaler\n",
    "from sklearn.pipeline import make_pipeline\n",
    "from sklearn.metrics import cross_val_score\n",
    "\n",
    "df = pd.read_csv('Financial Distress.csv')\n",
    "df = df.drop(columns=[\"Company\", \"Time\"])\n",
    "\n",
    "X = df.drop(columns=[\"Financial Distress\"]).dropna()\n",
    "y = df[\"Financial Distress\"].dropna()\n",
    "\n",
    "X_train, X_test, y_train, y_test = train_test_split(X, y, test_size=0.2, random_state=42)\n",
    "X_train, X_val, y_train, y_val = train_test_split(X_train, y_train, test_size=0.25, random_state=42)\n",
    "\n",
    "lasso = make_pipeline(StandardScaler(), LassoCV(cv=10, alphas=[0.05, 0.001]))\n",
    "lasso.fit(X_train, y_train)\n",
    "\n",
    "'''\n",
    "coef = lasso.named_steps[\"lassocv\"].coef_\n",
    "sel_features = X.columns[(coef != 0)]\n",
    "print(\"Selected features:\", sel_features)\n",
    "print(f\"Best alpha: {lasso.named_steps['lassocv'].alpha_}\")\n",
    "'''\n",
    "\n",
    "val_score = lasso.score(X_val, y_val)\n",
    "print(f\"Validation R^2: {val_score}\")"
   ]
  }
 ],
 "metadata": {
  "kernelspec": {
   "display_name": "Python 3",
   "language": "python",
   "name": "python3"
  },
  "language_info": {
   "codemirror_mode": {
    "name": "ipython",
    "version": 3
   },
   "file_extension": ".py",
   "mimetype": "text/x-python",
   "name": "python",
   "nbconvert_exporter": "python",
   "pygments_lexer": "ipython3",
   "version": "3.12.10"
  }
 },
 "nbformat": 4,
 "nbformat_minor": 5
}
