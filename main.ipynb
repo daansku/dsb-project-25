{
 "cells": [
  {
   "cell_type": "code",
   "id": "9b5970cd92a74fa6",
   "metadata": {},
   "source": [
    "import pandas as pd\n",
    "import numpy as np\n",
    "import matplotlib.pyplot as plt"
   ],
   "outputs": [],
   "execution_count": null
  },
  {
   "cell_type": "markdown",
   "id": "917f3db2bf3db0f2",
   "metadata": {},
   "source": [
    "### Cleaning the data"
   ]
  },
  {
   "cell_type": "code",
   "id": "cf8b62a440b3df60",
   "metadata": {},
   "source": [
    "df = pd.read_csv('cs-training.csv')\n",
    "df = df.rename(columns={'SeriousDlqin2yrs': 'label'})\n",
    "df = df.dropna()\n",
    "df = df.drop(columns=['Unnamed: 0'])\n",
    "\n",
    "print(len(df))\n",
    "print(df.head(5))"
   ],
   "outputs": [],
   "execution_count": null
  },
  {
   "cell_type": "markdown",
   "id": "b437b602",
   "metadata": {},
   "source": [
    "### Random forest"
   ]
  },
  {
   "cell_type": "code",
   "id": "79a22684ae648201",
   "metadata": {},
   "source": [
    "from sklearn.model_selection import train_test_split, GridSearchCV\n",
    "from sklearn.ensemble import RandomForestClassifier\n",
    "from sklearn.metrics import f1_score, accuracy_score, precision_score, recall_score, make_scorer, confusion_matrix\n",
    "\n",
    "features_count = len(df.columns) - 1\n",
    "X = df.drop(columns=['label'], axis=1).to_numpy()\n",
    "y = df['label']\n",
    "\n",
    "X_train, X_valtest, y_train, y_valtest = train_test_split(X, y, test_size=0.30, random_state=1)\n",
    "X_val, X_test, y_val, y_test = train_test_split(X_valtest, y_valtest, test_size=0.50, random_state=1)\n",
    "\n",
    "base_rf = RandomForestClassifier(class_weight = 'balanced', n_estimators=300, max_depth=10, max_features='sqrt', min_samples_leaf=2, random_state=1)\n",
    "param_grid = {'class_weight': ['balanced', {0:1, 1:2}, {0:1, 1:3}, {0:1, 1:5}, {0:1, 1:8}, {0:1, 1:10}], 'max_depth': [10, 20, None], 'min_samples_leaf': [1, 2, 4]}\n",
    "f1_scorer = make_scorer(f1_score)\n",
    "grid = GridSearchCV(estimator=base_rf, param_grid=param_grid, scoring=f1_scorer, cv=3, verbose=2, n_jobs=-1)\n",
    "grid.fit(X_train, y_train)\n",
    "\n",
    "print(\"\\nBest parameters found:\")\n",
    "print(grid.best_params_)\n",
    "print(f\"Best mean F1 score (CV): {grid.best_score_:.4f}\")\n",
    "\n",
    "best_rf = grid.best_estimator_\n",
    "y_val_pred = best_rf.predict(X_val)\n",
    "\n",
    "print(f\"\\nAccuracy score for validation set: {accuracy_score(y_val, y_val_pred):.2f}\")\n",
    "print(f\"Precision score for validation set: {precision_score(y_val, y_val_pred):.2f}\")\n",
    "print(f\"Recall score for validation set: {recall_score(y_val, y_val_pred):.2f}\")\n",
    "print(f\"F1 score for validation set: {f1_score(y_val, y_val_pred):.2f}\")\n",
    "print(\"Confusion Matrix:\\n\", confusion_matrix(y_val, y_val_pred))\n",
    "\n",
    "final_rf = RandomForestClassifier(n_estimators=800, max_features='sqrt', class_weight=grid.best_params_['class_weight'], max_depth=grid.best_params_['max_depth'], min_samples_leaf=grid.best_params_['min_samples_leaf'], random_state=1)\n",
    "X_trainval = np.concatenate((X_train, X_val))\n",
    "y_ftrainval = np.concatenate((y_train, y_val))\n",
    "final_rf.fit(X_trainval, y_ftrainval)\n",
    "y_test_pred = final_rf.predict(X_test)\n"
   ],
   "outputs": [],
   "execution_count": null
  },
  {
   "metadata": {},
   "cell_type": "code",
   "source": [
    "print(f\"Accuracy score for test set: {accuracy_score(y_test, y_test_pred):.2f}\")\n",
    "print(f\"Precision score for test set: {precision_score(y_test, y_test_pred):.2f}\")\n",
    "print(f\"Recall score for test set: {recall_score(y_test, y_test_pred):.2f}\")\n",
    "print(f\"F1 score for test set: {f1_score(y_test, y_test_pred):.2f}\")\n",
    "print(\"Confusion Matrix:\\n\", confusion_matrix(y_test, y_test_pred))"
   ],
   "id": "1e4a86a85610388",
   "outputs": [],
   "execution_count": null
  },
  {
   "metadata": {},
   "cell_type": "code",
   "source": "",
   "id": "cf908b7d8493216",
   "outputs": [],
   "execution_count": null
  },
  {
   "cell_type": "markdown",
   "id": "6aec79cb77a6da66",
   "metadata": {},
   "source": [
    "### Vizualize tha data or sumn"
   ]
  },
  {
   "cell_type": "code",
   "id": "3dfc7517afc03e7a",
   "metadata": {},
   "source": "",
   "outputs": [],
   "execution_count": null
  },
  {
   "cell_type": "markdown",
   "id": "1b77bd85",
   "metadata": {},
   "source": [
    "### Logistic regression"
   ]
  },
  {
   "cell_type": "code",
   "id": "854632c8",
   "metadata": {},
   "source": "",
   "outputs": [],
   "execution_count": null
  }
 ],
 "metadata": {
  "kernelspec": {
   "display_name": "Python 3",
   "language": "python",
   "name": "python3"
  },
  "language_info": {
   "codemirror_mode": {
    "name": "ipython",
    "version": 3
   },
   "file_extension": ".py",
   "mimetype": "text/x-python",
   "name": "python",
   "nbconvert_exporter": "python",
   "pygments_lexer": "ipython3",
   "version": "3.12.10"
  }
 },
 "nbformat": 4,
 "nbformat_minor": 5
}
