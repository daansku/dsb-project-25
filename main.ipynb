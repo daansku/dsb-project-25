{
 "cells": [
  {
   "metadata": {},
   "cell_type": "code",
   "source": [
    "import pandas as pd\n",
    "import numpy as np\n",
    "import matplotlib.pyplot as plt"
   ],
   "id": "9b5970cd92a74fa6",
   "outputs": [],
   "execution_count": null
  },
  {
   "metadata": {},
   "cell_type": "markdown",
   "source": "### Cleaning the data",
   "id": "917f3db2bf3db0f2"
  },
  {
   "metadata": {},
   "cell_type": "code",
   "source": [
    "df = pd.read_csv('Financial Distress.csv')\n",
    "print(df.isnull().sum())\n",
    "df = df.groupby('Company').mean(numeric_only=True).reset_index()\n",
    "df = df.drop(columns=['Time'])\n",
    "print(df.head(5))\n",
    "print(len(df))"
   ],
   "id": "cf8b62a440b3df60",
   "outputs": [],
   "execution_count": null
  },
  {
   "metadata": {},
   "cell_type": "code",
   "source": [
    "from sklearn.model_selection import train_test_split\n",
    "from sklearn.ensemble import RandomForestRegressor\n",
    "from sklearn.metrics import mean_squared_error, r2_score\n",
    "from sklearn.model_selection import KFold\n",
    "\n",
    "features_count = len(df.columns) - 1\n",
    "X = df.drop(columns=['Financial Distress'], axis=1).to_numpy().reshape(-1, features_count)\n",
    "y = df['Financial Distress'].to_numpy()\n",
    "X_trainval, X_test, y_trainval, y_test = train_test_split(X, y, test_size=0.2, random_state=1)\n",
    "folds = KFold(n_splits=5, shuffle=True, random_state=1)\n",
    "\n",
    "rmse_train_scores = []\n",
    "r2_train_scores = []\n",
    "y_cv_train_pred = np.zeros_like(y_trainval)\n",
    "rmse_val_scores = []\n",
    "r2_val_scores = []\n",
    "y_cv_val_pred = np.zeros_like(y_trainval)\n",
    "rf = RandomForestRegressor(n_estimators=200, max_features='log2', max_depth=5, min_samples_split=5, min_samples_leaf=2, random_state=1)\n",
    "for train_index, val_index in folds.split(X_trainval):\n",
    "    X_train, X_val = X_trainval[train_index], X_trainval[val_index]\n",
    "    y_train, y_val = y_trainval[train_index], y_trainval[val_index]\n",
    "    rf.fit(X_train, y_train)\n",
    "    # training\n",
    "    y_train_pred = rf.predict(X_train)\n",
    "    y_cv_train_pred[train_index] = y_train_pred\n",
    "    rmse_train_scores.append(np.sqrt(mean_squared_error(y_train, y_train_pred)))\n",
    "    r2_train_scores.append(r2_score(y_train, y_train_pred))\n",
    "    # validation\n",
    "    y_val_pred = rf.predict(X_val)\n",
    "    y_cv_val_pred[val_index] = y_val_pred\n",
    "    rmse_val_scores.append(np.sqrt(mean_squared_error(y_val, y_val_pred)))\n",
    "    r2_val_scores.append(r2_score(y_val, y_val_pred))\n",
    "print(f\"Training error (RMSE): {np.mean(rmse_train_scores):.2f}\")\n",
    "print(f\"Validation error (RMSE): {np.mean(rmse_val_scores):.2f}\")\n",
    "print(f\"Training error (R2): {np.mean(r2_train_scores):.2f}\")\n",
    "print(f\"Validation error (R2): {np.mean(r2_val_scores):.2f}\")\n",
    "\n",
    "rf.fit(X_trainval, y_trainval)\n",
    "y_test_pred = rf.predict(X_test)\n",
    "rf_mse_score = mean_squared_error(y_test, y_test_pred)\n",
    "rf_rmse_score = np.sqrt(mean_squared_error(y_test, y_test_pred))\n",
    "rf_r2_score = r2_score(y_test, y_test_pred)\n",
    "\n",
    "print(f\"Test error (MSE): {rf_mse_score:.2f}\")\n",
    "print(f\"Test error (RMSE): {rf_rmse_score:.2f}\")\n",
    "print(f\"Test error (R2): {rf_r2_score:.2f}\")"
   ],
   "id": "79a22684ae648201",
   "outputs": [],
   "execution_count": null
  },
  {
   "metadata": {},
   "cell_type": "markdown",
   "source": "### Vizualize tha data or sumn",
   "id": "6aec79cb77a6da66"
  },
  {
   "metadata": {},
   "cell_type": "code",
   "source": [
    "# Plotting the distribution of Financial Distress\n",
    "# Splitting values into bins with step of 0.5\n",
    "bins = np.arange(min(df['Financial Distress']), max(df['Financial Distress']) + 0.5, 0.5)\n",
    "\n",
    "# Show histogram\n",
    "plt.figure(figsize=(8, 5))\n",
    "plt.hist(df['Financial Distress'], bins=bins, color=\"darkred\", edgecolor='black', alpha=0.7)\n",
    "plt.title(f\"Distribution of Financial Distress: x ∈ [{min(df['Financial Distress']):.2f}, {max(df['Financial Distress']):.2f}]\")\n",
    "plt.xlabel('Financial Distress')\n",
    "plt.ylabel('Number of Companies')\n",
    "plt.show()\n",
    "\n",
    "\n",
    "\n"
   ],
   "id": "3dfc7517afc03e7a",
   "outputs": [],
   "execution_count": null
  }
 ],
 "metadata": {
  "kernelspec": {
   "display_name": "Python 3",
   "language": "python",
   "name": "python3"
  },
  "language_info": {
   "codemirror_mode": {
    "name": "ipython",
    "version": 3
   },
   "file_extension": ".py",
   "mimetype": "text/x-python",
   "name": "python",
   "nbconvert_exporter": "python",
   "pygments_lexer": "ipython3",
   "version": "3.12.10"
  }
 },
 "nbformat": 4,
 "nbformat_minor": 5
}
