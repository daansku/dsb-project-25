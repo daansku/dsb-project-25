{
 "cells": [
  {
   "cell_type": "code",
   "id": "a54ec547",
   "metadata": {
    "ExecuteTime": {
     "end_time": "2025-10-16T12:09:53.178876Z",
     "start_time": "2025-10-16T12:09:53.172698Z"
    }
   },
   "source": [
    "import pandas as pd\n",
    "import numpy as np"
   ],
   "outputs": [],
   "execution_count": 2
  },
  {
   "cell_type": "markdown",
   "id": "a16560a4",
   "metadata": {},
   "source": [
    "### Cleaning the data"
   ]
  },
  {
   "cell_type": "code",
   "id": "c6aabf29",
   "metadata": {
    "ExecuteTime": {
     "end_time": "2025-10-16T12:09:54.594947Z",
     "start_time": "2025-10-16T12:09:54.514190Z"
    }
   },
   "source": [
    "df = pd.read_csv('Financial Distress.csv')\n",
    "print(df.isnull().sum())\n",
    "df = df.groupby('Company').mean(numeric_only=True).reset_index()\n",
    "df = df.drop(columns=['Time'])\n",
    "print(df.head(5))\n",
    "print(len(df))"
   ],
   "outputs": [
    {
     "name": "stdout",
     "output_type": "stream",
     "text": [
      "Company               0\n",
      "Time                  0\n",
      "Financial Distress    0\n",
      "x1                    0\n",
      "x2                    0\n",
      "                     ..\n",
      "x79                   0\n",
      "x80                   0\n",
      "x81                   0\n",
      "x82                   0\n",
      "x83                   0\n",
      "Length: 86, dtype: int64\n",
      "   Company  Financial Distress        x1        x2        x3        x4  \\\n",
      "0        1           -0.334323  1.179250 -0.011305  0.869128  0.940075   \n",
      "1        2            1.966056  1.539892  0.204816  0.628511  0.931229   \n",
      "2        3           -1.659900  0.874400 -0.034676  0.793500  0.609520   \n",
      "3        4            0.839656  1.553275  0.138410  0.462178  0.759583   \n",
      "4        5            1.969673  1.127500  0.107643  0.743549  0.449420   \n",
      "\n",
      "         x5        x6        x7        x8  ...        x74      x75        x76  \\\n",
      "0  0.035843  0.126302  0.564090 -0.018738  ...  92.050750  33.5625  32.486500   \n",
      "1  0.302304  0.251645  1.068073  0.218296  ...  86.854643  92.1600  89.237286   \n",
      "2 -0.002632 -0.086847  0.506090 -0.056892  ...  85.437000  27.0700  26.102000   \n",
      "3  0.185367  0.168315  0.472444  0.171318  ...  86.854643  92.1600  89.237286   \n",
      "4  0.108686  0.089244  0.664047  0.249389  ...  86.854643  92.1600  89.237286   \n",
      "\n",
      "         x77        x78       x79   x80       x81   x82   x83  \n",
      "0  16.791750  15.750000  1.500000  22.0 -0.177584  31.5  50.5  \n",
      "1  17.770857  15.142857 -2.721429  29.0  1.895985  13.5  33.5  \n",
      "2  16.000000  16.000000  0.200000  25.0 -0.303170   8.0  37.0  \n",
      "3  17.770857  15.142857 -2.721429  12.0  0.748936  34.5  50.5  \n",
      "4  17.770857  15.142857 -2.721429  23.0  1.921633  18.5  43.5  \n",
      "\n",
      "[5 rows x 85 columns]\n",
      "422\n"
     ]
    }
   ],
   "execution_count": 3
  },
  {
   "metadata": {
    "ExecuteTime": {
     "end_time": "2025-10-16T12:37:35.199444Z",
     "start_time": "2025-10-16T12:37:32.843500Z"
    }
   },
   "cell_type": "code",
   "source": [
    "from sklearn.model_selection import train_test_split\n",
    "from sklearn.ensemble import RandomForestRegressor\n",
    "from sklearn.metrics import mean_squared_error, r2_score\n",
    "from sklearn.model_selection import KFold\n",
    "\n",
    "features_count = len(df.columns) - 1\n",
    "X = df.drop(columns=['Financial Distress'], axis=1).to_numpy().reshape(-1, features_count)\n",
    "y = df['Financial Distress'].to_numpy()\n",
    "X_trainval, X_test, y_trainval, y_test = train_test_split(X, y, test_size=0.2, random_state=1)\n",
    "folds = KFold(n_splits=5, shuffle=True, random_state=1)\n",
    "\n",
    "rmse_train_scores = []\n",
    "r2_train_scores = []\n",
    "y_cv_train_pred = np.zeros_like(y_trainval)\n",
    "rmse_val_scores = []\n",
    "r2_val_scores = []\n",
    "y_cv_val_pred = np.zeros_like(y_trainval)\n",
    "rf = RandomForestRegressor(n_estimators=200, max_features='log2', max_depth=5, min_samples_split=5, min_samples_leaf=2, random_state=1)\n",
    "for train_index, val_index in folds.split(X_trainval):\n",
    "    X_train, X_val = X_trainval[train_index], X_trainval[val_index]\n",
    "    y_train, y_val = y_trainval[train_index], y_trainval[val_index]\n",
    "    rf.fit(X_train, y_train)\n",
    "    # training\n",
    "    y_train_pred = rf.predict(X_train)\n",
    "    y_cv_train_pred[train_index] = y_train_pred\n",
    "    rmse_train_scores.append(np.sqrt(mean_squared_error(y_train, y_train_pred)))\n",
    "    r2_train_scores.append(r2_score(y_train, y_train_pred))\n",
    "    # validation\n",
    "    y_val_pred = rf.predict(X_val)\n",
    "    y_cv_val_pred[val_index] = y_val_pred\n",
    "    rmse_val_scores.append(np.sqrt(mean_squared_error(y_val, y_val_pred)))\n",
    "    r2_val_scores.append(r2_score(y_val, y_val_pred))\n",
    "print(f\"Training error (RMSE): {np.mean(rmse_train_scores):.2f}\")\n",
    "print(f\"Validation error (RMSE): {np.mean(rmse_val_scores):.2f}\")\n",
    "print(f\"Training error (R2): {np.mean(r2_train_scores):.2f}\")\n",
    "print(f\"Validation error (R2): {np.mean(r2_val_scores):.2f}\")\n",
    "\n",
    "rf.fit(X_trainval, y_trainval)\n",
    "y_test_pred = rf.predict(X_test)\n",
    "rf_mse_score = mean_squared_error(y_test, y_test_pred)\n",
    "rf_rmse_score = np.sqrt(mean_squared_error(y_test, y_test_pred))\n",
    "rf_r2_score = r2_score(y_test, y_test_pred)\n",
    "\n",
    "print(f\"Test error (MSE): {rf_mse_score:.2f}\")\n",
    "print(f\"Test error (RMSE): {rf_rmse_score:.2f}\")\n",
    "print(f\"Test error (R2): {rf_r2_score:.2f}\")"
   ],
   "id": "ae4c15b9c63b17e0",
   "outputs": [
    {
     "name": "stdout",
     "output_type": "stream",
     "text": [
      "Training error (RMSE): 1.19\n",
      "Validation error (RMSE): 1.38\n",
      "Training error (R2): 0.70\n",
      "Validation error (R2): 0.53\n",
      "Test error (MSE): 0.40\n",
      "Test error (RMSE): 0.63\n",
      "Test error (R2): 0.68\n"
     ]
    }
   ],
   "execution_count": 15
  },
  {
   "cell_type": "markdown",
   "id": "f317f24a",
   "metadata": {},
   "source": [
    "### Vizualize tha data or sumn"
   ]
  },
  {
   "cell_type": "code",
   "id": "fb63219c",
   "metadata": {},
   "source": [
    "\n",
    "\n"
   ],
   "outputs": [],
   "execution_count": null
  }
 ],
 "metadata": {
  "kernelspec": {
   "display_name": "Python 3",
   "language": "python",
   "name": "python3"
  },
  "language_info": {
   "codemirror_mode": {
    "name": "ipython",
    "version": 3
   },
   "file_extension": ".py",
   "mimetype": "text/x-python",
   "name": "python",
   "nbconvert_exporter": "python",
   "pygments_lexer": "ipython3",
   "version": "3.12.10"
  }
 },
 "nbformat": 4,
 "nbformat_minor": 5
}
