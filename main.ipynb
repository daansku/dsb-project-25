{
 "cells": [
  {
   "cell_type": "code",
   "execution_count": 43,
   "id": "9b5970cd92a74fa6",
   "metadata": {
    "ExecuteTime": {
     "end_time": "2025-10-16T15:45:20.208506Z",
     "start_time": "2025-10-16T15:45:18.559951Z"
    }
   },
   "outputs": [],
   "source": [
    "import pandas as pd\n",
    "import numpy as np\n",
    "import matplotlib.pyplot as plt\n",
    "import seaborn as sns\n",
    "from sklearn.model_selection import train_test_split, GridSearchCV\n",
    "from sklearn.linear_model import LogisticRegression\n",
    "from sklearn.metrics import classification_report, confusion_matrix, ConfusionMatrixDisplay, f1_score, accuracy_score, precision_score, recall_score, make_scorer\n",
    "from sklearn.preprocessing import StandardScaler\n",
    "from sklearn.ensemble import RandomForestClassifier"
   ]
  },
  {
   "cell_type": "markdown",
   "id": "917f3db2bf3db0f2",
   "metadata": {},
   "source": [
    "### Cleaning the data"
   ]
  },
  {
   "cell_type": "code",
   "execution_count": 40,
   "id": "cf8b62a440b3df60",
   "metadata": {
    "ExecuteTime": {
     "end_time": "2025-10-16T15:45:23.084001Z",
     "start_time": "2025-10-16T15:45:22.861511Z"
    }
   },
   "outputs": [
    {
     "name": "stdout",
     "output_type": "stream",
     "text": [
      "120269\n",
      "   label  RevolvingUtilizationOfUnsecuredLines  age  \\\n",
      "0      1                              0.766127   45   \n",
      "1      0                              0.957151   40   \n",
      "2      0                              0.658180   38   \n",
      "3      0                              0.233810   30   \n",
      "4      0                              0.907239   49   \n",
      "\n",
      "   NumberOfTime30-59DaysPastDueNotWorse  DebtRatio  MonthlyIncome  \\\n",
      "0                                     2   0.802982         9120.0   \n",
      "1                                     0   0.121876         2600.0   \n",
      "2                                     1   0.085113         3042.0   \n",
      "3                                     0   0.036050         3300.0   \n",
      "4                                     1   0.024926        63588.0   \n",
      "\n",
      "   NumberOfOpenCreditLinesAndLoans  NumberOfTimes90DaysLate  \\\n",
      "0                               13                        0   \n",
      "1                                4                        0   \n",
      "2                                2                        1   \n",
      "3                                5                        0   \n",
      "4                                7                        0   \n",
      "\n",
      "   NumberRealEstateLoansOrLines  NumberOfTime60-89DaysPastDueNotWorse  \\\n",
      "0                             6                                     0   \n",
      "1                             0                                     0   \n",
      "2                             0                                     0   \n",
      "3                             0                                     0   \n",
      "4                             1                                     0   \n",
      "\n",
      "   NumberOfDependents  \n",
      "0                 2.0  \n",
      "1                 1.0  \n",
      "2                 0.0  \n",
      "3                 0.0  \n",
      "4                 0.0  \n"
     ]
    }
   ],
   "source": [
    "df = pd.read_csv('cs-training.csv')\n",
    "df = df.rename(columns={'SeriousDlqin2yrs': 'label'})\n",
    "df = df.dropna()\n",
    "df = df.drop(columns=['Unnamed: 0'])\n",
    "\n",
    "print(len(df))\n",
    "print(df.head(5))"
   ]
  },
  {
   "cell_type": "markdown",
   "id": "d30be199",
   "metadata": {},
   "source": [
    "### Define training, val and test datasets and visualize data"
   ]
  },
  {
   "cell_type": "code",
   "execution_count": 50,
   "id": "9c177ecc",
   "metadata": {},
   "outputs": [
    {
     "data": {
      "image/png": "[encoded data removed]",
      "text/plain": [
       "<Figure size 640x480 with 1 Axes>"
      ]
     },
     "metadata": {},
     "output_type": "display_data"
    }
   ],
   "source": [
    "features_count = len(df.columns) - 1\n",
    "X = df.drop(columns=['label'], axis=1).to_numpy()\n",
    "y = df['label']\n",
    "\n",
    "X_train, X_valtest, y_train, y_valtest = train_test_split(X, y, test_size=0.30, random_state=1)\n",
    "X_val, X_test, y_val, y_test = train_test_split(X_valtest, y_valtest, test_size=0.50, random_state=1)\n",
    "\n",
    "X_scaled = StandardScaler().fit_transform(X)\n",
    "\n",
    "covs = []\n",
    "for i in range(features_count):\n",
    "    cov = np.cov(X_scaled[:, i], y)\n",
    "    covs.append(cov[0, 1])\n",
    "\n",
    "feature_names = df.drop(columns=['label']).columns.tolist()\n",
    "\n",
    "plt.bar(range(features_count), covs, color=\"#654c7e\")\n",
    "plt.axhline(0, color='black')\n",
    "plt.ylabel('Covariance with Label')\n",
    "plt.title('Feature Covariance with Target')\n",
    "plt.show()\n",
    "\n",
    "\n",
    "\n"
   ]
  },
  {
   "cell_type": "markdown",
   "id": "14f10b99",
   "metadata": {},
   "source": [
    "### Logistic Regression"
   ]
  },
  {
   "cell_type": "code",
   "execution_count": 25,
   "id": "d3b6b78c",
   "metadata": {},
   "outputs": [
    {
     "name": "stdout",
     "output_type": "stream",
     "text": [
      "              precision    recall  f1-score   support\n",
      "\n",
      "           0       0.97      0.84      0.90     16830\n",
      "           1       0.21      0.62      0.32      1210\n",
      "\n",
      "    accuracy                           0.82     18040\n",
      "   macro avg       0.59      0.73      0.61     18040\n",
      "weighted avg       0.92      0.82      0.86     18040\n",
      "\n"
     ]
    },
    {
     "name": "stderr",
     "output_type": "stream",
     "text": [
      "C:\\Users\\danit\\AppData\\Local\\Packages\\PythonSoftwareFoundation.Python.3.12_qbz5n2kfra8p0\\LocalCache\\local-packages\\Python312\\site-packages\\sklearn\\linear_model\\_logistic.py:465: ConvergenceWarning: lbfgs failed to converge (status=1):\n",
      "STOP: TOTAL NO. OF ITERATIONS REACHED LIMIT.\n",
      "\n",
      "Increase the number of iterations (max_iter) or scale the data as shown in:\n",
      "    https://scikit-learn.org/stable/modules/preprocessing.html\n",
      "Please also refer to the documentation for alternative solver options:\n",
      "    https://scikit-learn.org/stable/modules/linear_model.html#logistic-regression\n",
      "  n_iter_i = _check_optimize_result(\n"
     ]
    },
    {
     "data": {
      "text/plain": [
       "<sklearn.metrics._plot.confusion_matrix.ConfusionMatrixDisplay at 0x1e0646555e0>"
      ]
     },
     "execution_count": 25,
     "metadata": {},
     "output_type": "execute_result"
    },
    {
     "data": {
      "image/png": "[encoded data removed]",
      "text/plain": [
       "<Figure size 640x480 with 2 Axes>"
      ]
     },
     "metadata": {},
     "output_type": "display_data"
    }
   ],
   "source": [
    "# Train logistic regression model\n",
    "\n",
    "log_reg = LogisticRegression(max_iter=1000, class_weight='balanced', random_state=1)\n",
    "log_reg.fit(X_train, y_train)\n",
    "y_pred = log_reg.predict(X_val)\n",
    "\n",
    "print(classification_report(y_val, y_pred))\n",
    "\n",
    "\n",
    "cm = confusion_matrix(y_val, y_pred)\n",
    "ConfusionMatrixDisplay(cm, display_labels=log_reg.classes_).plot()"
   ]
  },
  {
   "cell_type": "markdown",
   "id": "b437b602",
   "metadata": {},
   "source": [
    "### Random forest"
   ]
  },
  {
   "cell_type": "code",
   "execution_count": null,
   "id": "79a22684ae648201",
   "metadata": {},
   "outputs": [
    {
     "ename": "NameError",
     "evalue": "name 'df' is not defined",
     "output_type": "error",
     "traceback": [
      "\u001b[31m---------------------------------------------------------------------------\u001b[39m",
      "\u001b[31mNameError\u001b[39m                                 Traceback (most recent call last)",
      "\u001b[36mCell\u001b[39m\u001b[36m \u001b[39m\u001b[32mIn[2]\u001b[39m\u001b[32m, line 5\u001b[39m\n\u001b[32m      2\u001b[39m \u001b[38;5;28;01mfrom\u001b[39;00m\u001b[38;5;250m \u001b[39m\u001b[34;01msklearn\u001b[39;00m\u001b[34;01m.\u001b[39;00m\u001b[34;01mensemble\u001b[39;00m\u001b[38;5;250m \u001b[39m\u001b[38;5;28;01mimport\u001b[39;00m RandomForestClassifier\n\u001b[32m      3\u001b[39m \u001b[38;5;28;01mfrom\u001b[39;00m\u001b[38;5;250m \u001b[39m\u001b[34;01msklearn\u001b[39;00m\u001b[34;01m.\u001b[39;00m\u001b[34;01mmetrics\u001b[39;00m\u001b[38;5;250m \u001b[39m\u001b[38;5;28;01mimport\u001b[39;00m f1_score, accuracy_score, precision_score, recall_score, make_scorer, confusion_matrix\n\u001b[32m----> \u001b[39m\u001b[32m5\u001b[39m features_count = \u001b[38;5;28mlen\u001b[39m(\u001b[43mdf\u001b[49m.columns) - \u001b[32m1\u001b[39m\n\u001b[32m      6\u001b[39m X = df.drop(columns=[\u001b[33m'\u001b[39m\u001b[33mlabel\u001b[39m\u001b[33m'\u001b[39m], axis=\u001b[32m1\u001b[39m).to_numpy()\n\u001b[32m      7\u001b[39m y = df[\u001b[33m'\u001b[39m\u001b[33mlabel\u001b[39m\u001b[33m'\u001b[39m]\n",
      "\u001b[31mNameError\u001b[39m: name 'df' is not defined"
     ]
    }
   ],
   "source": [
    "# Train rnadom forest\n",
    "base_rf = RandomForestClassifier(class_weight = 'balanced', n_estimators=300, max_depth=10, max_features='sqrt', min_samples_leaf=2, random_state=1)\n",
    "param_grid = {'class_weight': ['balanced', {0:1, 1:2}, {0:1, 1:3}, {0:1, 1:5}, {0:1, 1:8}, {0:1, 1:10}], 'max_depth': [10, 20, None], 'min_samples_leaf': [1, 2, 4]}\n",
    "f1_scorer = make_scorer(f1_score)\n",
    "grid = GridSearchCV(estimator=base_rf, param_grid=param_grid, scoring=f1_scorer, cv=3, verbose=2, n_jobs=-1)\n",
    "grid.fit(X_train, y_train)\n",
    "\n",
    "print(\"\\nBest parameters found:\")\n",
    "print(grid.best_params_)\n",
    "print(f\"Best mean F1 score (CV): {grid.best_score_:.2f}\")\n",
    "\n",
    "best_rf = grid.best_estimator_\n",
    "y_val_pred = best_rf.predict(X_val)\n",
    "\n",
    "print(f\"\\nAccuracy score for validation set: {accuracy_score(y_val, y_val_pred):.2f}\")\n",
    "print(f\"Precision score for validation set: {precision_score(y_val, y_val_pred):.2f}\")\n",
    "print(f\"Recall score for validation set: {recall_score(y_val, y_val_pred):.2f}\")\n",
    "print(f\"F1 score for validation set: {f1_score(y_val, y_val_pred):.2f}\")\n",
    "print(\"Confusion Matrix:\\n\", confusion_matrix(y_val, y_val_pred))\n",
    "\n",
    "final_rf = RandomForestClassifier(n_estimators=800, max_features='sqrt', class_weight=grid.best_params_['class_weight'], max_depth=grid.best_params_['max_depth'], min_samples_leaf=grid.best_params_['min_samples_leaf'], random_state=1)\n",
    "X_trainval = np.concatenate((X_train, X_val))\n",
    "y_ftrainval = np.concatenate((y_train, y_val))\n",
    "final_rf.fit(X_trainval, y_ftrainval)\n",
    "y_test_pred = final_rf.predict(X_test)\n"
   ]
  },
  {
   "cell_type": "code",
   "execution_count": null,
   "id": "1e4a86a85610388",
   "metadata": {},
   "outputs": [],
   "source": [
    "print(f\"Accuracy score for test set: {accuracy_score(y_test, y_test_pred):.2f}\")\n",
    "print(f\"Precision score for test set: {precision_score(y_test, y_test_pred):.2f}\")\n",
    "print(f\"Recall score for test set: {recall_score(y_test, y_test_pred):.2f}\")\n",
    "print(f\"F1 score for test set: {f1_score(y_test, y_test_pred):.2f}\")\n",
    "print(\"Confusion Matrix:\\n\", confusion_matrix(y_test, y_test_pred))"
   ]
  }
 ],
 "metadata": {
  "kernelspec": {
   "display_name": "Python 3",
   "language": "python",
   "name": "python3"
  },
  "language_info": {
   "codemirror_mode": {
    "name": "ipython",
    "version": 3
   },
   "file_extension": ".py",
   "mimetype": "text/x-python",
   "name": "python",
   "nbconvert_exporter": "python",
   "pygments_lexer": "ipython3",
   "version": "3.12.10"
  }
 },
 "nbformat": 4,
 "nbformat_minor": 5
}
