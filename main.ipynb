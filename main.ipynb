{
 "cells": [
  {
   "cell_type": "code",
   "execution_count": 78,
   "id": "9b5970cd92a74fa6",
   "metadata": {},
   "outputs": [],
   "source": [
    "import pandas as pd\n",
    "import numpy as np\n",
    "import matplotlib.pyplot as plt"
   ]
  },
  {
   "cell_type": "markdown",
   "id": "917f3db2bf3db0f2",
   "metadata": {},
   "source": [
    "### Cleaning the data"
   ]
  },
  {
   "cell_type": "code",
   "execution_count": 96,
   "id": "cf8b62a440b3df60",
   "metadata": {},
   "outputs": [
    {
     "name": "stdout",
     "output_type": "stream",
     "text": [
      "120269\n",
      "   SeriousDlqin2yrs  RevolvingUtilizationOfUnsecuredLines  age  \\\n",
      "0                 1                              0.766127   45   \n",
      "1                 0                              0.957151   40   \n",
      "2                 0                              0.658180   38   \n",
      "3                 0                              0.233810   30   \n",
      "4                 0                              0.907239   49   \n",
      "\n",
      "   NumberOfTime30-59DaysPastDueNotWorse  DebtRatio  MonthlyIncome  \\\n",
      "0                                     2   0.802982         9120.0   \n",
      "1                                     0   0.121876         2600.0   \n",
      "2                                     1   0.085113         3042.0   \n",
      "3                                     0   0.036050         3300.0   \n",
      "4                                     1   0.024926        63588.0   \n",
      "\n",
      "   NumberOfOpenCreditLinesAndLoans  NumberOfTimes90DaysLate  \\\n",
      "0                               13                        0   \n",
      "1                                4                        0   \n",
      "2                                2                        1   \n",
      "3                                5                        0   \n",
      "4                                7                        0   \n",
      "\n",
      "   NumberRealEstateLoansOrLines  NumberOfTime60-89DaysPastDueNotWorse  \\\n",
      "0                             6                                     0   \n",
      "1                             0                                     0   \n",
      "2                             0                                     0   \n",
      "3                             0                                     0   \n",
      "4                             1                                     0   \n",
      "\n",
      "   NumberOfDependents  \n",
      "0                 2.0  \n",
      "1                 1.0  \n",
      "2                 0.0  \n",
      "3                 0.0  \n",
      "4                 0.0  \n"
     ]
    }
   ],
   "source": [
    "training_df = pd.read_csv('cs-training.csv')\n",
    "training_df = training_df.dropna()\n",
    "training_df = training_df.drop(columns=['Unnamed: 0'])\n",
    "\n",
    "print(len(training_df))\n",
    "print(training_df.head(5))"
   ]
  },
  {
   "cell_type": "markdown",
   "id": "b437b602",
   "metadata": {},
   "source": [
    "### Random forest"
   ]
  },
  {
   "cell_type": "code",
   "execution_count": 80,
   "id": "79a22684ae648201",
   "metadata": {},
   "outputs": [
    {
     "name": "stdout",
     "output_type": "stream",
     "text": [
      "Training error (RMSE): 1.19\n",
      "Validation error (RMSE): 1.38\n",
      "Training error (R2): 0.70\n",
      "Validation error (R2): 0.53\n",
      "Test error (MSE): 0.35\n",
      "Test error (RMSE): 0.59\n",
      "Test error (R2): 0.72\n"
     ]
    }
   ],
   "source": [
    "from sklearn.model_selection import train_test_split\n",
    "from sklearn.ensemble import RandomForestRegressor\n",
    "from sklearn.metrics import mean_squared_error, r2_score\n",
    "from sklearn.model_selection import KFold\n",
    "\n",
    "features_count = len(df.columns) - 1\n",
    "X = df.drop(columns=['Financial Distress'], axis=1).to_numpy().reshape(-1, features_count)\n",
    "y = df['Financial Distress'].to_numpy()\n",
    "X_trainval, X_test, y_trainval, y_test = train_test_split(X, y, test_size=0.2, random_state=1)\n",
    "folds = KFold(n_splits=5, shuffle=True, random_state=1)\n",
    "\n",
    "rmse_train_scores = []\n",
    "r2_train_scores = []\n",
    "y_cv_train_pred = np.zeros_like(y_trainval)\n",
    "rmse_val_scores = []\n",
    "r2_val_scores = []\n",
    "y_cv_val_pred = np.zeros_like(y_trainval)\n",
    "rf = RandomForestRegressor(n_estimators=200, max_features='log2', max_depth=5, min_samples_split=5, min_samples_leaf=2, random_state=1)\n",
    "for train_index, val_index in folds.split(X_trainval):\n",
    "    X_train, X_val = X_trainval[train_index], X_trainval[val_index]\n",
    "    y_train, y_val = y_trainval[train_index], y_trainval[val_index]\n",
    "    rf.fit(X_train, y_train)\n",
    "    # training\n",
    "    y_train_pred = rf.predict(X_train)\n",
    "    y_cv_train_pred[train_index] = y_train_pred\n",
    "    rmse_train_scores.append(np.sqrt(mean_squared_error(y_train, y_train_pred)))\n",
    "    r2_train_scores.append(r2_score(y_train, y_train_pred))\n",
    "    # validation\n",
    "    y_val_pred = rf.predict(X_val)\n",
    "    y_cv_val_pred[val_index] = y_val_pred\n",
    "    rmse_val_scores.append(np.sqrt(mean_squared_error(y_val, y_val_pred)))\n",
    "    r2_val_scores.append(r2_score(y_val, y_val_pred))\n",
    "print(f\"Training error (RMSE): {np.mean(rmse_train_scores):.2f}\")\n",
    "print(f\"Validation error (RMSE): {np.mean(rmse_val_scores):.2f}\")\n",
    "print(f\"Training error (R2): {np.mean(r2_train_scores):.2f}\")\n",
    "print(f\"Validation error (R2): {np.mean(r2_val_scores):.2f}\")\n",
    "\n",
    "rf.fit(X_trainval, y_trainval)\n",
    "y_test_pred = rf.predict(X_test)\n",
    "rf_mse_score = mean_squared_error(y_test, y_test_pred)\n",
    "rf_rmse_score = np.sqrt(mean_squared_error(y_test, y_test_pred))\n",
    "rf_r2_score = r2_score(y_test, y_test_pred)\n",
    "\n",
    "print(f\"Test error (MSE): {rf_mse_score:.2f}\")\n",
    "print(f\"Test error (RMSE): {rf_rmse_score:.2f}\")\n",
    "print(f\"Test error (R2): {rf_r2_score:.2f}\")"
   ]
  },
  {
   "cell_type": "markdown",
   "id": "6aec79cb77a6da66",
   "metadata": {},
   "source": [
    "### Vizualize tha data or sumn"
   ]
  },
  {
   "cell_type": "code",
   "execution_count": 81,
   "id": "3dfc7517afc03e7a",
   "metadata": {},
   "outputs": [
    {
     "data": {
      "image/png": "[encoded data removed]",
      "text/plain": [
       "<Figure size 800x500 with 1 Axes>"
      ]
     },
     "metadata": {},
     "output_type": "display_data"
    },
    {
     "name": "stdout",
     "output_type": "stream",
     "text": [
      "Number of companies with financial distress (under -0.5): 29\n",
      "Number of companies with financial distress (over -0.5): 393\n"
     ]
    }
   ],
   "source": [
    "# Plotting the distribution of Financial Distress\n",
    "# Splitting values into bins with step of 0.5\n",
    "bins = np.arange(min(df['Financial Distress']), max(df['Financial Distress']) + 0.5, 0.5)\n",
    "\n",
    "# Show histogram\n",
    "plt.figure(figsize=(8, 5))\n",
    "plt.hist(df['Financial Distress'], bins=bins, color=\"darkred\", edgecolor='black', alpha=0.7)\n",
    "plt.title(f\"Distribution of Financial Distress: x ∈ [{min(df['Financial Distress']):.2f}, {max(df['Financial Distress']):.2f}]\")\n",
    "plt.xlabel('Financial Distress')\n",
    "plt.ylabel('Number of Companies')\n",
    "plt.show()\n",
    "\n",
    "under_count = len(df[df['Financial distress bin'] == 0])\n",
    "over_count = len(df[df['Financial distress bin'] == 1])\n",
    "\n",
    "print(f\"Number of companies with financial distress (under -0.5): {under_count}\")\n",
    "print(f\"Number of companies with financial distress (over -0.5): {over_count}\")"
   ]
  },
  {
   "cell_type": "markdown",
   "id": "1b77bd85",
   "metadata": {},
   "source": [
    "### Logistic regression"
   ]
  },
  {
   "cell_type": "code",
   "execution_count": 82,
   "id": "854632c8",
   "metadata": {},
   "outputs": [
    {
     "name": "stdout",
     "output_type": "stream",
     "text": [
      "670105395.2036577\n",
      "-541410640.8479253\n"
     ]
    }
   ],
   "source": [
    "from sklearn.model_selection import train_test_split\n",
    "from sklearn.linear_model import LinearRegression\n",
    "from sklearn.metrics import mean_squared_error, r2_score\n",
    "\n",
    "lin_reg_model = LinearRegression()\n",
    "lin_reg_model.fit(X_trainval, y_trainval)\n",
    "\n",
    "y_pred = lin_reg_model.predict(X_test)\n",
    "\n",
    "print(mean_squared_error(y_test, y_pred))\n",
    "print(r2_score(y_test, y_pred))"
   ]
  }
 ],
 "metadata": {
  "kernelspec": {
   "display_name": "Python 3",
   "language": "python",
   "name": "python3"
  },
  "language_info": {
   "codemirror_mode": {
    "name": "ipython",
    "version": 3
   },
   "file_extension": ".py",
   "mimetype": "text/x-python",
   "name": "python",
   "nbconvert_exporter": "python",
   "pygments_lexer": "ipython3",
   "version": "3.12.10"
  }
 },
 "nbformat": 4,
 "nbformat_minor": 5
}
